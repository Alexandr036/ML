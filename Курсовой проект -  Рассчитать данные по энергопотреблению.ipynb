{
 "cells": [
  {
   "attachments": {},
   "cell_type": "markdown",
   "metadata": {},
   "source": [
    "__Инструкция__\n",
    "\n",
    "Загрузите данные и посчитайте модели линейной регрессии для 50 зданий по ансамблю регрессионных моделей: в первой модели весь оптимальный набор метеорологических данных, во второй - дни недели и праздники, в третьей - недели года, в четвертой - месяцы. Финальное значение показателя рассчитайте как взвешенное арифметическое среднее показателей всех моделей, взяв веса для первой и второй модели как 3/8, а для третьей и четвертой - как 1/8.\n",
    "\n",
    "Загрузите данные решения, посчитайте значение энергопотребления для требуемых дат для тех зданий, которые посчитаны в модели, и выгрузите результат в виде CSV-файла (submission.csv).\n",
    "\n",
    "Данные:\n",
    "* http://video.ittensive.com/machine-learning/ashrae/building_metadata.csv.gz\n",
    "* http://video.ittensive.com/machine-learning/ashrae/weather_train.csv.gz\n",
    "* http://video.ittensive.com/machine-learning/ashrae/train.0.csv.gz\n",
    "* http://video.ittensive.com/machine-learning/ashrae/test.csv.gz\n",
    "* http://video.ittensive.com/machine-learning/ashrae/weather_test.csv.gz\n",
    "\n",
    "Итоговый файл с кодом (.py или .ipynb) выложите в github с портфолио."
   ]
  },
  {
   "attachments": {},
   "cell_type": "markdown",
   "metadata": {},
   "source": [
    "__Постановка задачи__\n",
    "1. Загрузите данные (building_metadata.csv.gz, weather_train.csv.gz, train.0.csv.gz).\n",
    "2. Посчитайте модели линейной регрессии для 50 зданий по ансамблю регрессионных моделей: \n",
    "* в первой модели весь оптимальный набор метеорологических данных\n",
    "* во второй - дни недели и праздники\n",
    "* в третьей - недели года\n",
    "* в четвертой - месяцы\n",
    "3. Рассчитайте финальное значение показателя как взвешенное арифметическое среднее показателей всех моделей, взяв веса:\n",
    " * для первой и второй модели как 3/8\n",
    " * для третьей и четвертой - как 1/8\n",
    "4. Загрузите данные решения (test.csv.gz, weather_test.csv.gz).\n",
    "5. Посчитайте значение энергопотребления для требуемых дат для тех зданий, которые посчитаны в модели.\n",
    "6. Выгрузите результат в виде CSV-файла (submission.csv)."
   ]
  },
  {
   "attachments": {},
   "cell_type": "markdown",
   "metadata": {},
   "source": [
    "__Подключим все необходимые библиотеки и добавим функцию оптимизации памяти__"
   ]
  },
  {
   "cell_type": "code",
   "execution_count": 56,
   "metadata": {},
   "outputs": [],
   "source": [
    "# библиотеки\n",
    "import pandas as pd\n",
    "from pandas.tseries.holiday import USFederalHolidayCalendar as calendar\n",
    "import numpy as np\n",
    "from scipy.interpolate import interp1d\n",
    "from sklearn.model_selection import train_test_split\n",
    "from sklearn.linear_model import LinearRegression\n",
    "import os\n",
    "\n",
    "# Функция  оптимизации памяти\n",
    "def reduce_mem_usage (df):\n",
    "    start_mem = df.memory_usage().sum() / 1024**2    \n",
    "    for col in df.columns:\n",
    "        col_type = df[col].dtypes\n",
    "        if str(col_type)[:5] == \"float\":\n",
    "            c_min = df[col].min()\n",
    "            c_max = df[col].max()\n",
    "            if c_min > np.finfo(\"f2\").min and c_max < np.finfo(\"f2\").max:\n",
    "                df[col] = df[col].astype(np.float16)\n",
    "            elif c_min > np.finfo(\"f4\").min and c_max < np.finfo(\"f4\").max:\n",
    "                df[col] = df[col].astype(np.float32)\n",
    "            else:\n",
    "                df[col] = df[col].astype(np.float64)\n",
    "        elif str(col_type)[:3] == \"int\":\n",
    "            c_min = df[col].min()\n",
    "            c_max = df[col].max()\n",
    "            if c_min > np.iinfo(\"i1\").min and c_max < np.iinfo(\"i1\").max:\n",
    "                df[col] = df[col].astype(np.int8)\n",
    "            elif c_min > np.iinfo(\"i2\").min and c_max < np.iinfo(\"i2\").max:\n",
    "                df[col] = df[col].astype(np.int16)\n",
    "            elif c_min > np.iinfo(\"i4\").min and c_max < np.iinfo(\"i4\").max:\n",
    "                df[col] = df[col].astype(np.int32)\n",
    "            elif c_min > np.iinfo(\"i8\").min and c_max < np.iinfo(\"i8\").max:\n",
    "                df[col] = df[col].astype(np.int64)\n",
    "        elif col == \"timestamp\":\n",
    "            df[col] = pd.to_datetime(df[col])\n",
    "        elif str(col_type)[:8] != \"datetime\":\n",
    "            df[col] = df[col].astype(\"category\")\n",
    "    end_mem = df.memory_usage().sum() / 1024**2\n",
    "    print('Потребление памяти меньше на', round(start_mem - end_mem, 2), 'Мб (минус', round(100 * (start_mem - end_mem) / start_mem, 1), '%)')\n",
    "    return df"
   ]
  },
  {
   "attachments": {},
   "cell_type": "markdown",
   "metadata": {},
   "source": [
    "#### 1. Загрузите данные (building_metadata.csv.gz, weather_train.csv.gz, train.0.csv.gz)\n",
    "Загрузим данные, проведем ETL"
   ]
  },
  {
   "cell_type": "code",
   "execution_count": 57,
   "metadata": {},
   "outputs": [],
   "source": [
    "# загрузка данных из локального источника и выбор данных по погоде, только для города 0, данных по зданиям только первых 50 зданий\n",
    "buildings = pd.read_csv(\"building_metadata.csv.gz\")\n",
    "weather = pd.read_csv(\"weather_train.csv.gz\")\n",
    "weather = weather[weather[\"site_id\"] == 0]  # только 1 город\n",
    "energy = pd.read_csv(\"train.0.csv.gz\")\n",
    "energy = energy[energy[\"building_id\"] < 50]  #  только первые 50 зданий\n",
    "energy = energy[energy[\"meter_reading\"] > 0] \n",
    "# объединение данных потребления и по зданиям\n",
    "energy = pd.merge(left=energy, right=buildings, how=\"left\",\n",
    "                   left_on=\"building_id\", right_on=\"building_id\")\n",
    "del buildings  # удаление промежуточных данных"
   ]
  },
  {
   "cell_type": "code",
   "execution_count": 58,
   "metadata": {},
   "outputs": [
    {
     "name": "stdout",
     "output_type": "stream",
     "text": [
      "<class 'pandas.core.frame.DataFrame'>\n",
      "Int64Index: 8784 entries, 0 to 8783\n",
      "Data columns (total 9 columns):\n",
      " #   Column                 Non-Null Count  Dtype  \n",
      "---  ------                 --------------  -----  \n",
      " 0   site_id                8784 non-null   int64  \n",
      " 1   timestamp              8784 non-null   object \n",
      " 2   air_temperature        8784 non-null   float64\n",
      " 3   cloud_coverage         8784 non-null   float64\n",
      " 4   dew_temperature        8784 non-null   float64\n",
      " 5   sea_level_pressure     8784 non-null   float64\n",
      " 6   wind_speed             8784 non-null   float64\n",
      " 7   air_temperature_diff1  8784 non-null   float64\n",
      " 8   air_temperature_diff2  8784 non-null   float64\n",
      "dtypes: float64(7), int64(1), object(1)\n",
      "memory usage: 944.3+ KB\n",
      "None\n"
     ]
    }
   ],
   "source": [
    "# обогащение данных погода, проведем интерполяцию серий и добавим первую и вторую производную температуры воздуха\n",
    "\n",
    "# интерполяция значений данных погода, только оптимальных серий\n",
    "interpolate_columns = [\"air_temperature\", \"dew_temperature\", \"cloud_coverage\", \n",
    "                       \"wind_speed\", \"wind_direction\", \"sea_level_pressure\"]\n",
    "for col in interpolate_columns:\n",
    "    weather[col] = weather[col].interpolate(limit_direction='both',\n",
    "                            kind='cubic') \n",
    "# обогащение данных погода, производными от температуры\n",
    "weather[\"air_temperature_diff1\"] = weather[\"air_temperature\"].diff()\n",
    "weather.at[0, \"air_temperature_diff1\"] = weather.at[1, \"air_temperature_diff1\"]\n",
    "weather[\"air_temperature_diff2\"] = weather[\"air_temperature_diff1\"].diff()\n",
    "weather.at[0, \"air_temperature_diff2\"] = weather.at[1, \"air_temperature_diff2\"]\n",
    "weather = weather.drop(columns=[\"precip_depth_1_hr\", \"wind_direction\"], axis=1) # удалим серии которые нам не понадобятся\n",
    "print(weather.info())"
   ]
  },
  {
   "cell_type": "code",
   "execution_count": 59,
   "metadata": {},
   "outputs": [
    {
     "name": "stdout",
     "output_type": "stream",
     "text": [
      "Потребление памяти меньше на 17.71 Мб (минус 71.9 %)\n",
      "<class 'pandas.core.frame.DataFrame'>\n",
      "RangeIndex: 269067 entries, 0 to 269066\n",
      "Data columns (total 12 columns):\n",
      " #   Column                 Non-Null Count   Dtype         \n",
      "---  ------                 --------------   -----         \n",
      " 0   site_id                269067 non-null  int8          \n",
      " 1   timestamp              269067 non-null  datetime64[ns]\n",
      " 2   building_id            269067 non-null  int8          \n",
      " 3   meter_reading          269067 non-null  float16       \n",
      " 4   primary_use            269067 non-null  category      \n",
      " 5   air_temperature        269067 non-null  float16       \n",
      " 6   cloud_coverage         269067 non-null  float16       \n",
      " 7   dew_temperature        269067 non-null  float16       \n",
      " 8   sea_level_pressure     269067 non-null  float16       \n",
      " 9   wind_speed             269067 non-null  float16       \n",
      " 10  air_temperature_diff1  269067 non-null  float16       \n",
      " 11  air_temperature_diff2  269067 non-null  float16       \n",
      "dtypes: category(1), datetime64[ns](1), float16(8), int8(2)\n",
      "memory usage: 6.9 MB\n",
      "None\n"
     ]
    }
   ],
   "source": [
    "# Объединение данных потребления и погоды через индексы\n",
    "energy.set_index([\"site_id\", \"timestamp\"], inplace=True )\n",
    "weather.set_index([\"site_id\", \"timestamp\"], inplace=True )\n",
    "energy = pd.merge(left=energy, right=weather, how=\"left\",\n",
    "                    left_index=True, right_index=True)\n",
    "energy.reset_index(inplace=True)\n",
    "# удалим не нужные колонки\n",
    "energy = energy.drop(columns=[\"meter\", \"year_built\",\n",
    "                              \"square_feet\", \"floor_count\"], axis=1)\n",
    "\n",
    "# оптимизация потребления памяти и удаление промежуточных данных \n",
    "energy = reduce_mem_usage(energy)\n",
    "del weather\n",
    "print (energy.info())"
   ]
  },
  {
   "cell_type": "code",
   "execution_count": 60,
   "metadata": {},
   "outputs": [],
   "source": [
    "# добавление серий данных час, день недели, неделя, месяц, дата и праздничные дни. \n",
    "energy[\"hour\"] = energy[\"timestamp\"].dt.hour.astype(\"int8\")\n",
    "energy[\"weekday\"] = energy[\"timestamp\"].dt.weekday.astype(\"int8\")\n",
    "energy[\"week\"] = energy[\"timestamp\"].dt.isocalendar().week.astype(\"int8\")\n",
    "energy[\"month\"] = energy[\"timestamp\"].dt.month.astype(\"int8\")\n",
    "energy[\"date\"] = pd.to_datetime(energy[\"timestamp\"].dt.date)\n",
    "dates_range = pd.date_range(start='2015-12-31', end='2017-01-01')\n",
    "us_holidays = calendar().holidays(start=dates_range.min(),\n",
    "                                  end=dates_range.max())\n",
    "energy['is_holiday'] = energy['date'].isin(us_holidays).astype(\"int8\")\n",
    "for weekday in range(0,7):\n",
    "    energy['is_wday' + str(weekday)] = energy['weekday'].isin([weekday]).astype(\"int8\")\n",
    "for week in range(1,54):\n",
    "    energy['is_w' + str(week)] = energy['week'].isin([week]).astype(\"int8\")\n",
    "for month in range(1,13):\n",
    "    energy['is_m' + str(month)] = energy['month'].isin([month]).astype(\"int8\")\n",
    "    \n",
    "# добавили серию с логарифмом целевого показателя \n",
    "energy[\"meter_reading_log\"] = np.log(energy[\"meter_reading\"] + 1)"
   ]
  },
  {
   "attachments": {},
   "cell_type": "markdown",
   "metadata": {},
   "source": [
    "#### 2. Посчитайте модели линейной регрессии для 50 зданий по ансамблю регрессионных моделей:\n",
    "\n",
    "* в первой модели весь оптимальный набор метеорологических данных\n",
    "* во второй - дни недели и праздники\n",
    "* в третьей - недели года\n",
    "* в четвертой - месяцы"
   ]
  },
  {
   "cell_type": "code",
   "execution_count": 61,
   "metadata": {},
   "outputs": [],
   "source": [
    "\n",
    "hours = range(0, 24)  # диапазон для итераций по часам\n",
    "buildings = range(0, energy[\"building_id\"].max() + 1) # диапазон для итераций кол-ву зданий\n",
    "def train_model (df, columns):  # функция для расчета коэффициентов модели линейной регрессии (построения модели)\n",
    "    df_train_lr = pd.DataFrame(df, columns=columns)\n",
    "    df_lr = [[]] * len(buildings)\n",
    "    for building in buildings:\n",
    "        df_lr[building] =  [[]] * len(hours)\n",
    "        df_train_b = df_train_lr[df_train_lr[\"building_id\"] == building]\n",
    "        for hour in hours:\n",
    "            df_train_bh = df_train_b[df_train_b[\"hour\"] == hour]\n",
    "            y = df_train_bh[\"meter_reading_log\"]\n",
    "            x = df_train_bh.drop(labels=[\"meter_reading_log\",\"hour\", \"building_id\"], axis=1)\n",
    "            model = LinearRegression(fit_intercept=False).fit(x, y)\n",
    "            df_lr[building][hour] = model.coef_\n",
    "            df_lr[building][hour] = np.append(df_lr[building][hour], model.intercept_)\n",
    "    return df_lr"
   ]
  },
  {
   "cell_type": "code",
   "execution_count": 62,
   "metadata": {},
   "outputs": [],
   "source": [
    "# Модель линейной регрессии по набору метеорологических данных (по погоде)\n",
    "lr_weather_columns = [\"meter_reading_log\",\"hour\", \"building_id\", \"air_temperature\", \"cloud_coverage\", \"dew_temperature\",\n",
    "            \"sea_level_pressure\", \"wind_speed\", \"air_temperature_diff1\", \"air_temperature_diff2\"]\n",
    "lr_weather = train_model(energy, lr_weather_columns)\n",
    "# print(lr_weather[0])\n"
   ]
  },
  {
   "cell_type": "code",
   "execution_count": 63,
   "metadata": {},
   "outputs": [],
   "source": [
    "# Модель линейной регрессии по набору дни недели и праздники\n",
    "lr_wday_holiday_columns = [\"meter_reading_log\",\"hour\", \"building_id\", \"is_holiday\"]\n",
    "for wday in range(0, 7):\n",
    "    lr_wday_holiday_columns.append(\"is_wday\" + str(wday))\n",
    "lr_wday_holiday = train_model(energy, lr_wday_holiday_columns)\n",
    "# print(lr_wday_holiday[0])"
   ]
  },
  {
   "cell_type": "code",
   "execution_count": 64,
   "metadata": {},
   "outputs": [],
   "source": [
    "# Модель линейной регрессии по набору недели года\n",
    "lr_week_columns = [\"meter_reading_log\",\"hour\", \"building_id\"]\n",
    "for week in range(1, 54):\n",
    "    lr_week_columns.append(\"is_w\" + str(week))\n",
    "lr_week = train_model(energy, lr_week_columns)\n",
    "# print(lr_week[0])"
   ]
  },
  {
   "cell_type": "code",
   "execution_count": 65,
   "metadata": {},
   "outputs": [],
   "source": [
    "# Модель линейной регрессии по набору месяцы\n",
    "lr_month_columns = [\"meter_reading_log\",\"hour\", \"building_id\"]\n",
    "for month in range(1, 13):\n",
    "    lr_month_columns.append(\"is_m\" + str(month))\n",
    "lr_month = train_model(energy, lr_month_columns)\n",
    "# print(lr_month[0])"
   ]
  },
  {
   "cell_type": "code",
   "execution_count": 66,
   "metadata": {},
   "outputs": [],
   "source": [
    "del energy  # удаление промежуточных данных"
   ]
  },
  {
   "attachments": {},
   "cell_type": "markdown",
   "metadata": {},
   "source": [
    "#### 3. Финальное значение показателя рассчитайте как взвешенное арифметическое среднее показателей всех моделей, взяв веса:\n",
    " * для первой и второй модели как 3/8\n",
    " * для третьей и четвертой - как 1/8"
   ]
  },
  {
   "cell_type": "code",
   "execution_count": 74,
   "metadata": {},
   "outputs": [],
   "source": [
    "# добавим функции для расчета финального значения \n",
    "def calculate_model_ensemble (x, model, columns):\n",
    "    lr = -1\n",
    "    if len(model) > 0:\n",
    "        lr = np.sum([x[col] * model[i] for i,col in enumerate(columns[3:])])\n",
    "        lr += model[len(columns)-3]\n",
    "        lr = np.exp(lr)\n",
    "    if lr < 0 or lr*lr == lr:\n",
    "        lr = 0\n",
    "    return lr\n",
    "\n",
    "def calculate_models_ensemble_V1 (x):  # функция для расчета финального значения показателя\n",
    "    lr_weath = calculate_model_ensemble(x,\n",
    "            lr_weather[x.building_id][x.hour],\n",
    "            lr_weather_columns)\n",
    "    lr_wday_hol = calculate_model_ensemble(x,\n",
    "            lr_wday_holiday[x.building_id][x.hour],\n",
    "            lr_wday_holiday_columns)\n",
    "    lr_w = calculate_model_ensemble(x,\n",
    "            lr_week[x.building_id][x.hour],\n",
    "            lr_week_columns)\n",
    "    lr_m = calculate_model_ensemble(x,\n",
    "            lr_month[x.building_id][x.hour],\n",
    "            lr_month_columns)\n",
    "    lr_mean = (lr_weath*3 + lr_wday_hol*3 + lr_w + lr_m)/8\n",
    "    x[\"meter_reading\"] = lr_mean\n",
    "    return x"
   ]
  },
  {
   "attachments": {},
   "cell_type": "markdown",
   "metadata": {},
   "source": [
    "#### 4. Загрузите данные решения\n",
    "Загрузим данные решения (test.csv.gz, weather_test.csv.gz), проведем ETL.\n"
   ]
  },
  {
   "cell_type": "code",
   "execution_count": 75,
   "metadata": {},
   "outputs": [],
   "source": [
    "buildings = pd.read_csv(\"building_metadata.csv.gz\",\n",
    "                       usecols=[\"site_id\", \"building_id\"])\n",
    "weather = pd.read_csv(\"weather_test.csv.gz\")\n",
    "weather = weather[weather[\"site_id\"] == 0]\n",
    "results = pd.read_csv(\"test.csv.gz\")\n",
    "results = results[(results[\"building_id\"] < 50) & (results[\"meter\"] == 0)]\n",
    "results = pd.merge(left=results, right=buildings, how=\"left\",\n",
    "                   left_on=\"building_id\", right_on=\"building_id\")\n",
    "del buildings\n",
    "results = results.drop(columns=[\"meter\"], axis=1)\n",
    "# print (results.info())"
   ]
  },
  {
   "cell_type": "code",
   "execution_count": 76,
   "metadata": {},
   "outputs": [
    {
     "name": "stdout",
     "output_type": "stream",
     "text": [
      "<class 'pandas.core.frame.DataFrame'>\n",
      "Int64Index: 17520 entries, 0 to 17519\n",
      "Data columns (total 9 columns):\n",
      " #   Column                 Non-Null Count  Dtype  \n",
      "---  ------                 --------------  -----  \n",
      " 0   site_id                17520 non-null  int64  \n",
      " 1   timestamp              17520 non-null  object \n",
      " 2   air_temperature        17520 non-null  float64\n",
      " 3   cloud_coverage         17520 non-null  float64\n",
      " 4   dew_temperature        17520 non-null  float64\n",
      " 5   sea_level_pressure     17520 non-null  float64\n",
      " 6   wind_speed             17520 non-null  float64\n",
      " 7   air_temperature_diff1  17520 non-null  float64\n",
      " 8   air_temperature_diff2  17520 non-null  float64\n",
      "dtypes: float64(7), int64(1), object(1)\n",
      "memory usage: 1.8+ MB\n",
      "None\n"
     ]
    }
   ],
   "source": [
    "# отберем колонки для интерполяции данных погоды\n",
    "interpolate_columns = [\"air_temperature\", \"dew_temperature\",\n",
    "                       \"cloud_coverage\", \"wind_speed\", \"sea_level_pressure\"]\n",
    "# проведем интерполяцию \n",
    "for col in interpolate_columns:\n",
    "    weather[col] = weather[col].interpolate(limit_direction='both',\n",
    "                            kind='cubic') \n",
    "# обогащение данных погода, производными от температуры\n",
    "weather[\"air_temperature_diff1\"] = weather[\"air_temperature\"].diff()\n",
    "weather.at[0, \"air_temperature_diff1\"] = weather.at[1, \"air_temperature_diff1\"]\n",
    "weather[\"air_temperature_diff2\"] = weather[\"air_temperature_diff1\"].diff()\n",
    "weather.at[0, \"air_temperature_diff2\"] = weather.at[1, \"air_temperature_diff2\"]\n",
    "weather = weather.drop(columns=[\"precip_depth_1_hr\", \"wind_direction\"], axis=1) # удалим серии которые нам не понадобятся\n",
    "print(weather.info())"
   ]
  },
  {
   "cell_type": "code",
   "execution_count": 77,
   "metadata": {},
   "outputs": [
    {
     "name": "stdout",
     "output_type": "stream",
     "text": [
      "Потребление памяти меньше на 44.28 Мб (минус 66.2 %)\n",
      "<class 'pandas.core.frame.DataFrame'>\n",
      "RangeIndex: 876000 entries, 0 to 875999\n",
      "Data columns (total 10 columns):\n",
      " #   Column                 Non-Null Count   Dtype         \n",
      "---  ------                 --------------   -----         \n",
      " 0   timestamp              876000 non-null  datetime64[ns]\n",
      " 1   row_id                 876000 non-null  int32         \n",
      " 2   building_id            876000 non-null  int8          \n",
      " 3   air_temperature        876000 non-null  float16       \n",
      " 4   cloud_coverage         876000 non-null  float16       \n",
      " 5   dew_temperature        876000 non-null  float16       \n",
      " 6   sea_level_pressure     876000 non-null  float16       \n",
      " 7   wind_speed             876000 non-null  float16       \n",
      " 8   air_temperature_diff1  876000 non-null  float16       \n",
      " 9   air_temperature_diff2  876000 non-null  float16       \n",
      "dtypes: datetime64[ns](1), float16(7), int32(1), int8(1)\n",
      "memory usage: 22.6 MB\n",
      "None\n"
     ]
    }
   ],
   "source": [
    "# объединим данные по погоде\n",
    "results = results.set_index([\"timestamp\", \"site_id\"])  # назначили индексы\n",
    "weather = weather.set_index([\"timestamp\", \"site_id\"])\n",
    "# объединили по индексам\n",
    "results = pd.merge(left=results, right=weather, how=\"left\",\n",
    "                  left_index=True, right_index=True)\n",
    "results.reset_index(inplace=True)  # сбросили индексы после объединения \n",
    "results = results.drop(columns=[\"site_id\"], axis=1)  # удалили неиспользуемую серию данных \n",
    "del weather  # удалили промежуточные данные\n",
    "results = reduce_mem_usage(results)  # провели оптимизацию памяти\n",
    "print (results.info())"
   ]
  },
  {
   "cell_type": "code",
   "execution_count": 78,
   "metadata": {},
   "outputs": [],
   "source": [
    "# добавим необходимые серии час, день недели, неделя, месяц, день и праздник\n",
    "results[\"hour\"] = results[\"timestamp\"].dt.hour.astype(\"int8\")\n",
    "results[\"weekday\"] = results[\"timestamp\"].dt.weekday.astype(\"int8\")\n",
    "results[\"week\"] = results[\"timestamp\"].dt.isocalendar().week.astype(\"int8\")\n",
    "results[\"month\"] = results[\"timestamp\"].dt.month.astype(\"int8\")\n",
    "results[\"date\"] = pd.to_datetime(results[\"timestamp\"].dt.date)\n",
    "dates_range = pd.date_range(start='2016-12-31', end='2018-06-01')\n",
    "us_holidays = calendar().holidays(start=dates_range.min(),\n",
    "                                  end=dates_range.max())\n",
    "results['is_holiday'] = results['date'].isin(us_holidays).astype(\"int8\")\n",
    "for weekday in range(0,7):\n",
    "    results['is_wday' + str(weekday)] = results['weekday'].isin([weekday]).astype(\"int8\")\n",
    "for week in range(1,54):\n",
    "    results['is_w' + str(week)] = results['week'].isin([week]).astype(\"int8\")\n",
    "for month in range(1,13):\n",
    "    results['is_m' + str(month)] = results['month'].isin([month]).astype(\"int8\")"
   ]
  },
  {
   "attachments": {},
   "cell_type": "markdown",
   "metadata": {},
   "source": [
    "#### 5. Посчитайте значение энергопотребления для требуемых дат для тех зданий, которые посчитаны в модели.\n",
    "Расчет финальных показателей, только энергопотребление, только 50 первых зданий."
   ]
  },
  {
   "cell_type": "code",
   "execution_count": 80,
   "metadata": {},
   "outputs": [],
   "source": [
    "results = results.apply(calculate_models_ensemble_V1, axis=1, result_type=\"expand\")"
   ]
  },
  {
   "cell_type": "code",
   "execution_count": 81,
   "metadata": {},
   "outputs": [
    {
     "name": "stdout",
     "output_type": "stream",
     "text": [
      "<class 'pandas.core.frame.DataFrame'>\n",
      "RangeIndex: 876000 entries, 0 to 875999\n",
      "Data columns (total 2 columns):\n",
      " #   Column         Non-Null Count   Dtype  \n",
      "---  ------         --------------   -----  \n",
      " 0   row_id         876000 non-null  int64  \n",
      " 1   meter_reading  876000 non-null  float64\n",
      "dtypes: float64(1), int64(1)\n",
      "memory usage: 13.4 MB\n",
      "None\n",
      "876000\n"
     ]
    }
   ],
   "source": [
    "# Усечение данных до требуемого формата: row_id, meter_reading\n",
    "results_ready = pd.DataFrame(results, columns=[\"row_id\", \"meter_reading\"])\n",
    "print (results_ready.info())\n",
    "print (len(results_ready[results_ready[\"meter_reading\"]>0]))"
   ]
  },
  {
   "cell_type": "code",
   "execution_count": 82,
   "metadata": {},
   "outputs": [
    {
     "name": "stdout",
     "output_type": "stream",
     "text": [
      "<class 'pandas.core.frame.DataFrame'>\n",
      "Int64Index: 41697600 entries, 0 to 41697599\n",
      "Data columns (total 2 columns):\n",
      " #   Column         Dtype  \n",
      "---  ------         -----  \n",
      " 0   row_id         int64  \n",
      " 1   meter_reading  float64\n",
      "dtypes: float64(1), int64(1)\n",
      "memory usage: 954.4 MB\n",
      "None\n"
     ]
    }
   ],
   "source": [
    "results = pd.read_csv(\"test.csv.gz\", usecols=[\"row_id\"])  # загрузка данных решения, используем только колонку row_id\n",
    "# объединим рассчитанные данные  \n",
    "results = pd.merge(left=results, right=results_ready, how=\"left\",\n",
    "                  left_on=\"row_id\", right_on=\"row_id\")\n",
    "results.fillna(value=0, inplace=True)\n",
    "print (results.info())"
   ]
  },
  {
   "attachments": {},
   "cell_type": "markdown",
   "metadata": {},
   "source": [
    "### Выгрузка результатов в CSV файл\n",
    "Итоговый файл занимает около 1 Гб"
   ]
  },
  {
   "cell_type": "code",
   "execution_count": null,
   "metadata": {},
   "outputs": [],
   "source": [
    "# Выгрузка результатов в CSV файл\n",
    "results.to_csv(\"submission.csv\",index=False)"
   ]
  },
  {
   "cell_type": "code",
   "execution_count": 83,
   "metadata": {},
   "outputs": [],
   "source": [
    "# освобождение памяти \n",
    "del results\n",
    "del results_ready"
   ]
  }
 ],
 "metadata": {
  "kernelspec": {
   "display_name": "Python 3",
   "language": "python",
   "name": "python3"
  },
  "language_info": {
   "codemirror_mode": {
    "name": "ipython",
    "version": 3
   },
   "file_extension": ".py",
   "mimetype": "text/x-python",
   "name": "python",
   "nbconvert_exporter": "python",
   "pygments_lexer": "ipython3",
   "version": "3.10.5 (tags/v3.10.5:f377153, Jun  6 2022, 16:14:13) [MSC v.1929 64 bit (AMD64)]"
  },
  "orig_nbformat": 4,
  "vscode": {
   "interpreter": {
    "hash": "cabc1c0307ff36ad707732aa9193e5f78d475ef32be73cdd13d0523dc404be35"
   }
  }
 },
 "nbformat": 4,
 "nbformat_minor": 2
}
