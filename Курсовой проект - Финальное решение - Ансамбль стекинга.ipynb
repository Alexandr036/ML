{
 "cells": [
  {
   "attachments": {},
   "cell_type": "markdown",
   "metadata": {},
   "source": [
    "#### Инструкция\n",
    "Загрузите данные, приведите их к числовым, заполните пропуски, нормализуйте данные и оптимизируйте память.\n",
    "\n",
    "Сформируйте параллельный ансамбль из CatBoost, градиентного бустинга, XGBoost и LightGBM. Используйте лучшие гиперпараметры, подобранные ранее, или найдите их через перекрестную проверку. Итоговое решение рассчитайте на основании самого точного предсказания класса у определенной модели ансамбля: выберите для каждого класса модель, которая предсказывает его лучше всего.\n",
    "\n",
    "Проведите расчеты и выгрузите результат в виде submission.csv\n",
    "\n",
    "Данные:\n",
    "* video.ittensive.com/machine-learning/prudential/train.csv.gz\n",
    "* video.ittensive.com/machine-learning/prudential/test.csv.gz\n",
    "* video.ittensive.com/machine-learning/prudential/sample_submission.csv.gz\n",
    "\n",
    "Итоговый файл с кодом (.py или .ipynb) выложите в github с портфолио."
   ]
  },
  {
   "attachments": {},
   "cell_type": "markdown",
   "metadata": {},
   "source": [
    "#### Задача\n",
    "Загрузите данные, приведите их к числовым, заполните пропуски, нормализуйте данные и оптимизируйте память."
   ]
  },
  {
   "attachments": {},
   "cell_type": "markdown",
   "metadata": {},
   "source": [
    "### Подключение библиотек и функции оптимизации памяти"
   ]
  },
  {
   "cell_type": "code",
   "execution_count": 1,
   "metadata": {},
   "outputs": [],
   "source": [
    "import numpy as np \n",
    "import pandas as pd\n",
    "\n",
    "# библиотеки для ансамбля \n",
    "from catboost import Pool, CatBoostClassifier  # CatBoost\n",
    "from sklearn.ensemble import GradientBoostingClassifier  # Градиентный бустинг\n",
    "from xgboost import XGBClassifier  # XGBoost\n",
    "import lightgbm as lgb  # LightGBM\n",
    "\n",
    "from sklearn.model_selection import train_test_split\n",
    "from sklearn.metrics import cohen_kappa_score, confusion_matrix\n",
    "from sklearn import preprocessing\n",
    "\n",
    "\n",
    "def reduce_mem_usage (df):\n",
    "    start_mem = df.memory_usage().sum() / 1024**2    \n",
    "    for col in df.columns:\n",
    "        col_type = df[col].dtypes\n",
    "        if str(col_type)[:5] == \"float\":\n",
    "            c_min = df[col].min()\n",
    "            c_max = df[col].max()\n",
    "            if c_min > np.finfo(\"f2\").min and c_max < np.finfo(\"f2\").max:\n",
    "                df[col] = df[col].astype(np.float16)\n",
    "            elif c_min > np.finfo(\"f4\").min and c_max < np.finfo(\"f4\").max:\n",
    "                df[col] = df[col].astype(np.float32)\n",
    "            else:\n",
    "                df[col] = df[col].astype(np.float64)\n",
    "        elif str(col_type)[:3] == \"int\":\n",
    "            c_min = df[col].min()\n",
    "            c_max = df[col].max()\n",
    "            if c_min > np.iinfo(\"i1\").min and c_max < np.iinfo(\"i1\").max:\n",
    "                df[col] = df[col].astype(np.int8)\n",
    "            elif c_min > np.iinfo(\"i2\").min and c_max < np.iinfo(\"i2\").max:\n",
    "                df[col] = df[col].astype(np.int16)\n",
    "            elif c_min > np.iinfo(\"i4\").min and c_max < np.iinfo(\"i4\").max:\n",
    "                df[col] = df[col].astype(np.int32)\n",
    "            elif c_min > np.iinfo(\"i8\").min and c_max < np.iinfo(\"i8\").max:\n",
    "                df[col] = df[col].astype(np.int64)\n",
    "        else:\n",
    "            df[col] = df[col].astype(\"category\")\n",
    "    end_mem = df.memory_usage().sum() / 1024**2\n",
    "    print('Потребление памяти меньше на', round(start_mem - end_mem, 2), 'Мб (минус', round(100 * (start_mem - end_mem) / start_mem, 1), '%)')\n",
    "    return df"
   ]
  },
  {
   "attachments": {},
   "cell_type": "markdown",
   "metadata": {},
   "source": [
    "Загрузка данных, приведение их к числовым, заполнение пропусков, нормализация данных и оптимизация памяти."
   ]
  },
  {
   "attachments": {},
   "cell_type": "markdown",
   "metadata": {},
   "source": [
    "### Загрузка данных"
   ]
  },
  {
   "cell_type": "code",
   "execution_count": 2,
   "metadata": {},
   "outputs": [
    {
     "name": "stdout",
     "output_type": "stream",
     "text": [
      "<class 'pandas.core.frame.DataFrame'>\n",
      "RangeIndex: 59381 entries, 0 to 59380\n",
      "Columns: 128 entries, Id to Response\n",
      "dtypes: float64(18), int64(109), object(1)\n",
      "memory usage: 58.0+ MB\n",
      "None\n"
     ]
    }
   ],
   "source": [
    "# data = pd.read_csv(\"https://video.ittensive.com/machine-learning/prudential/train.csv.gz\")\n",
    "data = pd.read_csv(\"train.csv.gz\")\n",
    "print (data.info())"
   ]
  },
  {
   "attachments": {},
   "cell_type": "markdown",
   "metadata": {},
   "source": [
    "### Предобработка данных\n",
    "Создадим отдельную функцию, для предобработки данных. Её нужно будет применить как к обч. так и к тест. данным. "
   ]
  },
  {
   "cell_type": "code",
   "execution_count": 3,
   "metadata": {},
   "outputs": [],
   "source": [
    "def data_preprocess (df):\n",
    "    df[\"Product_Info_2_1\"] = df[\"Product_Info_2\"].str.slice(0, 1)\n",
    "    df[\"Product_Info_2_2\"] = pd.to_numeric(df[\"Product_Info_2\"].str.slice(1, 2))\n",
    "    df.drop(labels=[\"Product_Info_2\"], axis=1, inplace=True)\n",
    "    for l in df[\"Product_Info_2_1\"].unique():\n",
    "        df[\"Product_Info_2_1\" + l] = df[\"Product_Info_2_1\"].isin([l]).astype(\"int8\")\n",
    "    df.drop(labels=[\"Product_Info_2_1\"], axis=1, inplace=True)\n",
    "    df.fillna(value=-1, inplace=True)\n",
    "    data[\"Response\"] = data[\"Response\"] - 1\n",
    "    return df"
   ]
  },
  {
   "attachments": {},
   "cell_type": "markdown",
   "metadata": {},
   "source": [
    "Проведем предобработку тренировочных данных.   "
   ]
  },
  {
   "cell_type": "code",
   "execution_count": 4,
   "metadata": {},
   "outputs": [],
   "source": [
    "data = data_preprocess(data)"
   ]
  },
  {
   "attachments": {},
   "cell_type": "markdown",
   "metadata": {},
   "source": [
    "### Набор столбцов для расчета\n",
    "Создадим список столбцов для расчета в модели (вкл. исправление опечатки в InsuredInfo)"
   ]
  },
  {
   "cell_type": "code",
   "execution_count": 5,
   "metadata": {},
   "outputs": [
    {
     "name": "stdout",
     "output_type": "stream",
     "text": [
      "['Wt', 'Ht', 'Ins_Age', 'BMI', 'Insurance_History_1', 'Insurance_History_2', 'Insurance_History_3', 'Insurance_History_4', 'Insurance_History_5', 'Insurance_History_7', 'Insurance_History_8', 'Insurance_History_9', 'InsuredInfo_1', 'InsuredInfo_2', 'InsuredInfo_3', 'InsuredInfo_4', 'InsuredInfo_5', 'InsuredInfo_6', 'InsuredInfo_7', 'Medical_Keyword_1', 'Medical_Keyword_2', 'Medical_Keyword_3', 'Medical_Keyword_4', 'Medical_Keyword_5', 'Medical_Keyword_6', 'Medical_Keyword_7', 'Medical_Keyword_8', 'Medical_Keyword_9', 'Medical_Keyword_10', 'Medical_Keyword_11', 'Medical_Keyword_12', 'Medical_Keyword_13', 'Medical_Keyword_14', 'Medical_Keyword_15', 'Medical_Keyword_16', 'Medical_Keyword_17', 'Medical_Keyword_18', 'Medical_Keyword_19', 'Medical_Keyword_20', 'Medical_Keyword_21', 'Medical_Keyword_22', 'Medical_Keyword_23', 'Medical_Keyword_24', 'Medical_Keyword_25', 'Medical_Keyword_26', 'Medical_Keyword_27', 'Medical_Keyword_28', 'Medical_Keyword_29', 'Medical_Keyword_30', 'Medical_Keyword_31', 'Medical_Keyword_32', 'Medical_Keyword_33', 'Medical_Keyword_34', 'Medical_Keyword_35', 'Medical_Keyword_36', 'Medical_Keyword_37', 'Medical_Keyword_38', 'Medical_Keyword_39', 'Medical_Keyword_40', 'Medical_Keyword_41', 'Medical_Keyword_42', 'Medical_Keyword_43', 'Medical_Keyword_44', 'Medical_Keyword_45', 'Medical_Keyword_46', 'Medical_Keyword_47', 'Medical_Keyword_48', 'Family_Hist_1', 'Family_Hist_2', 'Family_Hist_3', 'Family_Hist_4', 'Family_Hist_5', 'Medical_History_1', 'Medical_History_2', 'Medical_History_3', 'Medical_History_4', 'Medical_History_5', 'Medical_History_6', 'Medical_History_7', 'Medical_History_8', 'Medical_History_9', 'Medical_History_10', 'Medical_History_11', 'Medical_History_12', 'Medical_History_13', 'Medical_History_14', 'Medical_History_15', 'Medical_History_16', 'Medical_History_17', 'Medical_History_18', 'Medical_History_19', 'Medical_History_20', 'Medical_History_21', 'Medical_History_22', 'Medical_History_23', 'Medical_History_24', 'Medical_History_25', 'Medical_History_26', 'Medical_History_27', 'Medical_History_28', 'Medical_History_29', 'Medical_History_30', 'Medical_History_31', 'Medical_History_32', 'Medical_History_33', 'Medical_History_34', 'Medical_History_35', 'Medical_History_36', 'Medical_History_37', 'Medical_History_38', 'Medical_History_39', 'Medical_History_40', 'Medical_History_41', 'Product_Info_1', 'Product_Info_3', 'Product_Info_4', 'Product_Info_5', 'Product_Info_6', 'Product_Info_7', 'Product_Info_2_2', 'Product_Info_2_1D', 'Product_Info_2_1A', 'Product_Info_2_1E', 'Product_Info_2_1C', 'Product_Info_2_1B']\n"
     ]
    }
   ],
   "source": [
    "columns_groups = [\"Insurance_History\", \"InsuredInfo\", \"Medical_Keyword\",\n",
    "                  \"Family_Hist\", \"Medical_History\", \"Product_Info\"]\n",
    "columns = [\"Wt\", \"Ht\", \"Ins_Age\", \"BMI\"]\n",
    "for cg in columns_groups:\n",
    "    columns.extend(data.columns[data.columns.str.startswith(cg)])\n",
    "print (columns)"
   ]
  },
  {
   "attachments": {},
   "cell_type": "markdown",
   "metadata": {},
   "source": [
    "### Нормализация данных "
   ]
  },
  {
   "cell_type": "code",
   "execution_count": 6,
   "metadata": {},
   "outputs": [],
   "source": [
    "scaler = preprocessing.StandardScaler()\n",
    "data_transformed = pd.DataFrame(scaler.fit_transform(pd.DataFrame(data,\n",
    "                                                     columns=columns)))\n",
    "columns_transformed = data_transformed.columns\n",
    "data_transformed[\"Response\"] = data[\"Response\"]"
   ]
  },
  {
   "attachments": {},
   "cell_type": "markdown",
   "metadata": {},
   "source": [
    "### Оптимизация памяти\n",
    "Воспользуемся функцией оптимизации памяти для сформированных данных."
   ]
  },
  {
   "cell_type": "code",
   "execution_count": 7,
   "metadata": {},
   "outputs": [
    {
     "name": "stdout",
     "output_type": "stream",
     "text": [
      "Потребление памяти меньше на 42.87 Мб (минус 75.1 %)\n",
      "<class 'pandas.core.frame.DataFrame'>\n",
      "RangeIndex: 59381 entries, 0 to 59380\n",
      "Columns: 126 entries, 0 to Response\n",
      "dtypes: float16(125), int8(1)\n",
      "memory usage: 14.2 MB\n",
      "None\n"
     ]
    }
   ],
   "source": [
    "data_transformed = reduce_mem_usage(data_transformed)\n",
    "print (data_transformed.info())"
   ]
  },
  {
   "attachments": {},
   "cell_type": "markdown",
   "metadata": {},
   "source": [
    "### Задача\n",
    "Сформируйте параллельный ансамбль из CatBoost, градиентного бустинга, XGBoost и LightGBM. Используйте лучшие гиперпараметры, подобранные ранее, или найдите их через перекрестную проверку. Итоговое решение рассчитайте на основании самого точного предсказания класса у определенной модели ансамбля: выберите для каждого класса модель, которая предсказывает его лучше всего."
   ]
  },
  {
   "attachments": {},
   "cell_type": "markdown",
   "metadata": {},
   "source": [
    "### Построение базовых моделей\n",
    "Сформируем параллельный ансамбль из CatBoost, градиентного бустинга, XGBoost и LightGBM. Использовать будем лучшие гиперпараметры, который были подобраны ранее. "
   ]
  },
  {
   "cell_type": "code",
   "execution_count": 8,
   "metadata": {},
   "outputs": [],
   "source": [
    "x = pd.DataFrame(data_transformed, columns=columns_transformed)"
   ]
  },
  {
   "attachments": {},
   "cell_type": "markdown",
   "metadata": {},
   "source": [
    "CatBoost. Оптимальные парамеры которые нашли ранее - 'depth': 7, 'l2_leaf_reg': 1, 'learning_rate': 0.5700000000000001"
   ]
  },
  {
   "cell_type": "code",
   "execution_count": 9,
   "metadata": {},
   "outputs": [
    {
     "name": "stdout",
     "output_type": "stream",
     "text": [
      "0:\tlearn: 1.5279394\ttotal: 257ms\tremaining: 25.5s\n",
      "1:\tlearn: 1.4322561\ttotal: 376ms\tremaining: 18.4s\n",
      "2:\tlearn: 1.3338654\ttotal: 511ms\tremaining: 16.5s\n",
      "3:\tlearn: 1.2977580\ttotal: 632ms\tremaining: 15.2s\n",
      "4:\tlearn: 1.2739421\ttotal: 744ms\tremaining: 14.1s\n",
      "5:\tlearn: 1.2594011\ttotal: 855ms\tremaining: 13.4s\n",
      "6:\tlearn: 1.2479667\ttotal: 965ms\tremaining: 12.8s\n",
      "7:\tlearn: 1.2403408\ttotal: 1.07s\tremaining: 12.4s\n",
      "8:\tlearn: 1.2278383\ttotal: 1.21s\tremaining: 12.3s\n",
      "9:\tlearn: 1.2176685\ttotal: 1.35s\tremaining: 12.1s\n",
      "10:\tlearn: 1.2127665\ttotal: 1.46s\tremaining: 11.8s\n",
      "11:\tlearn: 1.2079266\ttotal: 1.58s\tremaining: 11.6s\n",
      "12:\tlearn: 1.1996008\ttotal: 1.69s\tremaining: 11.3s\n",
      "13:\tlearn: 1.1917714\ttotal: 1.8s\tremaining: 11.1s\n",
      "14:\tlearn: 1.1835361\ttotal: 1.91s\tremaining: 10.8s\n",
      "15:\tlearn: 1.1794947\ttotal: 2.04s\tremaining: 10.7s\n",
      "16:\tlearn: 1.1758466\ttotal: 2.18s\tremaining: 10.6s\n",
      "17:\tlearn: 1.1729276\ttotal: 2.29s\tremaining: 10.4s\n",
      "18:\tlearn: 1.1601366\ttotal: 2.4s\tremaining: 10.2s\n",
      "19:\tlearn: 1.1567989\ttotal: 2.51s\tremaining: 10s\n",
      "20:\tlearn: 1.1482353\ttotal: 2.62s\tremaining: 9.86s\n",
      "21:\tlearn: 1.1439672\ttotal: 2.73s\tremaining: 9.69s\n",
      "22:\tlearn: 1.1370624\ttotal: 2.84s\tremaining: 9.51s\n",
      "23:\tlearn: 1.1311847\ttotal: 2.95s\tremaining: 9.35s\n",
      "24:\tlearn: 1.1239889\ttotal: 3.07s\tremaining: 9.2s\n",
      "25:\tlearn: 1.1209290\ttotal: 3.18s\tremaining: 9.05s\n",
      "26:\tlearn: 1.1147962\ttotal: 3.29s\tremaining: 8.91s\n",
      "27:\tlearn: 1.1116075\ttotal: 3.4s\tremaining: 8.74s\n",
      "28:\tlearn: 1.1070380\ttotal: 3.51s\tremaining: 8.6s\n",
      "29:\tlearn: 1.1034278\ttotal: 3.62s\tremaining: 8.45s\n",
      "30:\tlearn: 1.1000699\ttotal: 3.73s\tremaining: 8.31s\n",
      "31:\tlearn: 1.0968098\ttotal: 3.84s\tremaining: 8.16s\n",
      "32:\tlearn: 1.0938853\ttotal: 3.95s\tremaining: 8.02s\n",
      "33:\tlearn: 1.0894397\ttotal: 4.07s\tremaining: 7.89s\n",
      "34:\tlearn: 1.0860069\ttotal: 4.17s\tremaining: 7.75s\n",
      "35:\tlearn: 1.0822429\ttotal: 4.28s\tremaining: 7.61s\n",
      "36:\tlearn: 1.0789233\ttotal: 4.38s\tremaining: 7.46s\n",
      "37:\tlearn: 1.0764210\ttotal: 4.49s\tremaining: 7.33s\n",
      "38:\tlearn: 1.0727373\ttotal: 4.59s\tremaining: 7.18s\n",
      "39:\tlearn: 1.0695275\ttotal: 4.7s\tremaining: 7.04s\n",
      "40:\tlearn: 1.0657280\ttotal: 4.8s\tremaining: 6.91s\n",
      "41:\tlearn: 1.0635148\ttotal: 4.9s\tremaining: 6.77s\n",
      "42:\tlearn: 1.0599199\ttotal: 5.01s\tremaining: 6.64s\n",
      "43:\tlearn: 1.0570450\ttotal: 5.11s\tremaining: 6.5s\n",
      "44:\tlearn: 1.0540081\ttotal: 5.21s\tremaining: 6.37s\n",
      "45:\tlearn: 1.0521690\ttotal: 5.32s\tremaining: 6.24s\n",
      "46:\tlearn: 1.0499440\ttotal: 5.42s\tremaining: 6.11s\n",
      "47:\tlearn: 1.0477154\ttotal: 5.52s\tremaining: 5.98s\n",
      "48:\tlearn: 1.0450901\ttotal: 5.63s\tremaining: 5.86s\n",
      "49:\tlearn: 1.0434840\ttotal: 5.73s\tremaining: 5.73s\n",
      "50:\tlearn: 1.0397560\ttotal: 5.84s\tremaining: 5.61s\n",
      "51:\tlearn: 1.0369476\ttotal: 5.94s\tremaining: 5.49s\n",
      "52:\tlearn: 1.0344309\ttotal: 6.05s\tremaining: 5.37s\n",
      "53:\tlearn: 1.0314885\ttotal: 6.16s\tremaining: 5.25s\n",
      "54:\tlearn: 1.0284405\ttotal: 6.27s\tremaining: 5.13s\n",
      "55:\tlearn: 1.0265307\ttotal: 6.37s\tremaining: 5.01s\n",
      "56:\tlearn: 1.0238992\ttotal: 6.48s\tremaining: 4.89s\n",
      "57:\tlearn: 1.0214826\ttotal: 6.59s\tremaining: 4.77s\n",
      "58:\tlearn: 1.0192534\ttotal: 6.7s\tremaining: 4.65s\n",
      "59:\tlearn: 1.0174131\ttotal: 6.8s\tremaining: 4.53s\n",
      "60:\tlearn: 1.0158323\ttotal: 6.91s\tremaining: 4.42s\n",
      "61:\tlearn: 1.0137597\ttotal: 7.02s\tremaining: 4.3s\n",
      "62:\tlearn: 1.0112304\ttotal: 7.12s\tremaining: 4.18s\n",
      "63:\tlearn: 1.0098923\ttotal: 7.23s\tremaining: 4.07s\n",
      "64:\tlearn: 1.0074208\ttotal: 7.34s\tremaining: 3.95s\n",
      "65:\tlearn: 1.0055711\ttotal: 7.44s\tremaining: 3.83s\n",
      "66:\tlearn: 1.0029521\ttotal: 7.55s\tremaining: 3.72s\n",
      "67:\tlearn: 1.0010219\ttotal: 7.65s\tremaining: 3.6s\n",
      "68:\tlearn: 0.9986620\ttotal: 7.76s\tremaining: 3.49s\n",
      "69:\tlearn: 0.9973247\ttotal: 7.87s\tremaining: 3.37s\n",
      "70:\tlearn: 0.9955532\ttotal: 7.98s\tremaining: 3.26s\n",
      "71:\tlearn: 0.9948968\ttotal: 8.08s\tremaining: 3.14s\n",
      "72:\tlearn: 0.9934291\ttotal: 8.19s\tremaining: 3.03s\n",
      "73:\tlearn: 0.9913782\ttotal: 8.31s\tremaining: 2.92s\n",
      "74:\tlearn: 0.9904017\ttotal: 8.45s\tremaining: 2.82s\n",
      "75:\tlearn: 0.9901443\ttotal: 8.56s\tremaining: 2.7s\n",
      "76:\tlearn: 0.9883115\ttotal: 8.66s\tremaining: 2.59s\n",
      "77:\tlearn: 0.9864982\ttotal: 8.77s\tremaining: 2.47s\n",
      "78:\tlearn: 0.9849208\ttotal: 8.88s\tremaining: 2.36s\n",
      "79:\tlearn: 0.9846307\ttotal: 8.99s\tremaining: 2.25s\n",
      "80:\tlearn: 0.9833396\ttotal: 9.1s\tremaining: 2.13s\n",
      "81:\tlearn: 0.9828579\ttotal: 9.2s\tremaining: 2.02s\n",
      "82:\tlearn: 0.9799913\ttotal: 9.32s\tremaining: 1.91s\n",
      "83:\tlearn: 0.9779031\ttotal: 9.43s\tremaining: 1.8s\n",
      "84:\tlearn: 0.9762774\ttotal: 9.54s\tremaining: 1.68s\n",
      "85:\tlearn: 0.9747586\ttotal: 9.64s\tremaining: 1.57s\n",
      "86:\tlearn: 0.9716140\ttotal: 9.75s\tremaining: 1.46s\n",
      "87:\tlearn: 0.9699102\ttotal: 9.86s\tremaining: 1.34s\n",
      "88:\tlearn: 0.9677943\ttotal: 9.96s\tremaining: 1.23s\n",
      "89:\tlearn: 0.9650498\ttotal: 10.1s\tremaining: 1.12s\n",
      "90:\tlearn: 0.9633546\ttotal: 10.2s\tremaining: 1.01s\n",
      "91:\tlearn: 0.9616021\ttotal: 10.3s\tremaining: 895ms\n",
      "92:\tlearn: 0.9598573\ttotal: 10.4s\tremaining: 782ms\n",
      "93:\tlearn: 0.9582975\ttotal: 10.5s\tremaining: 671ms\n",
      "94:\tlearn: 0.9560946\ttotal: 10.6s\tremaining: 559ms\n",
      "95:\tlearn: 0.9536732\ttotal: 10.7s\tremaining: 447ms\n",
      "96:\tlearn: 0.9504338\ttotal: 10.8s\tremaining: 335ms\n",
      "97:\tlearn: 0.9480064\ttotal: 10.9s\tremaining: 223ms\n",
      "98:\tlearn: 0.9451257\ttotal: 11s\tremaining: 112ms\n",
      "99:\tlearn: 0.9439680\ttotal: 11.2s\tremaining: 0us\n"
     ]
    },
    {
     "data": {
      "text/plain": [
       "<catboost.core.CatBoostClassifier at 0x217a4d6d240>"
      ]
     },
     "execution_count": 9,
     "metadata": {},
     "output_type": "execute_result"
    }
   ],
   "source": [
    "model_cat_boost = CatBoostClassifier(iterations=100,\n",
    "        learning_rate=0.5700000000000001,\n",
    "        depth=7,\n",
    "        l2_leaf_reg=1,\n",
    "        random_seed=17, loss_function=\"MultiClass\",\n",
    "        bootstrap_type=\"MVS\", custom_metric=\"WKappa\")\n",
    "train_dataset = Pool(data=x, label=data_transformed[\"Response\"])\n",
    "model_cat_boost.fit(train_dataset)"
   ]
  },
  {
   "attachments": {},
   "cell_type": "markdown",
   "metadata": {},
   "source": [
    "Градиентный бустинг. Оптимальные парамеры которые нашли ранее - 'max_depth': 15, 'max_features': 26, 'min_samples_leaf': 20, 'n_estimators': 75"
   ]
  },
  {
   "cell_type": "code",
   "execution_count": 10,
   "metadata": {},
   "outputs": [
    {
     "data": {
      "text/html": [
       "<style>#sk-container-id-1 {color: black;background-color: white;}#sk-container-id-1 pre{padding: 0;}#sk-container-id-1 div.sk-toggleable {background-color: white;}#sk-container-id-1 label.sk-toggleable__label {cursor: pointer;display: block;width: 100%;margin-bottom: 0;padding: 0.3em;box-sizing: border-box;text-align: center;}#sk-container-id-1 label.sk-toggleable__label-arrow:before {content: \"▸\";float: left;margin-right: 0.25em;color: #696969;}#sk-container-id-1 label.sk-toggleable__label-arrow:hover:before {color: black;}#sk-container-id-1 div.sk-estimator:hover label.sk-toggleable__label-arrow:before {color: black;}#sk-container-id-1 div.sk-toggleable__content {max-height: 0;max-width: 0;overflow: hidden;text-align: left;background-color: #f0f8ff;}#sk-container-id-1 div.sk-toggleable__content pre {margin: 0.2em;color: black;border-radius: 0.25em;background-color: #f0f8ff;}#sk-container-id-1 input.sk-toggleable__control:checked~div.sk-toggleable__content {max-height: 200px;max-width: 100%;overflow: auto;}#sk-container-id-1 input.sk-toggleable__control:checked~label.sk-toggleable__label-arrow:before {content: \"▾\";}#sk-container-id-1 div.sk-estimator input.sk-toggleable__control:checked~label.sk-toggleable__label {background-color: #d4ebff;}#sk-container-id-1 div.sk-label input.sk-toggleable__control:checked~label.sk-toggleable__label {background-color: #d4ebff;}#sk-container-id-1 input.sk-hidden--visually {border: 0;clip: rect(1px 1px 1px 1px);clip: rect(1px, 1px, 1px, 1px);height: 1px;margin: -1px;overflow: hidden;padding: 0;position: absolute;width: 1px;}#sk-container-id-1 div.sk-estimator {font-family: monospace;background-color: #f0f8ff;border: 1px dotted black;border-radius: 0.25em;box-sizing: border-box;margin-bottom: 0.5em;}#sk-container-id-1 div.sk-estimator:hover {background-color: #d4ebff;}#sk-container-id-1 div.sk-parallel-item::after {content: \"\";width: 100%;border-bottom: 1px solid gray;flex-grow: 1;}#sk-container-id-1 div.sk-label:hover label.sk-toggleable__label {background-color: #d4ebff;}#sk-container-id-1 div.sk-serial::before {content: \"\";position: absolute;border-left: 1px solid gray;box-sizing: border-box;top: 0;bottom: 0;left: 50%;z-index: 0;}#sk-container-id-1 div.sk-serial {display: flex;flex-direction: column;align-items: center;background-color: white;padding-right: 0.2em;padding-left: 0.2em;position: relative;}#sk-container-id-1 div.sk-item {position: relative;z-index: 1;}#sk-container-id-1 div.sk-parallel {display: flex;align-items: stretch;justify-content: center;background-color: white;position: relative;}#sk-container-id-1 div.sk-item::before, #sk-container-id-1 div.sk-parallel-item::before {content: \"\";position: absolute;border-left: 1px solid gray;box-sizing: border-box;top: 0;bottom: 0;left: 50%;z-index: -1;}#sk-container-id-1 div.sk-parallel-item {display: flex;flex-direction: column;z-index: 1;position: relative;background-color: white;}#sk-container-id-1 div.sk-parallel-item:first-child::after {align-self: flex-end;width: 50%;}#sk-container-id-1 div.sk-parallel-item:last-child::after {align-self: flex-start;width: 50%;}#sk-container-id-1 div.sk-parallel-item:only-child::after {width: 0;}#sk-container-id-1 div.sk-dashed-wrapped {border: 1px dashed gray;margin: 0 0.4em 0.5em 0.4em;box-sizing: border-box;padding-bottom: 0.4em;background-color: white;}#sk-container-id-1 div.sk-label label {font-family: monospace;font-weight: bold;display: inline-block;line-height: 1.2em;}#sk-container-id-1 div.sk-label-container {text-align: center;}#sk-container-id-1 div.sk-container {/* jupyter's `normalize.less` sets `[hidden] { display: none; }` but bootstrap.min.css set `[hidden] { display: none !important; }` so we also need the `!important` here to be able to override the default hidden behavior on the sphinx rendered scikit-learn.org. See: https://github.com/scikit-learn/scikit-learn/issues/21755 */display: inline-block !important;position: relative;}#sk-container-id-1 div.sk-text-repr-fallback {display: none;}</style><div id=\"sk-container-id-1\" class=\"sk-top-container\"><div class=\"sk-text-repr-fallback\"><pre>GradientBoostingClassifier(max_depth=15, max_features=26, min_samples_leaf=20,\n",
       "                           n_estimators=75, random_state=17)</pre><b>In a Jupyter environment, please rerun this cell to show the HTML representation or trust the notebook. <br />On GitHub, the HTML representation is unable to render, please try loading this page with nbviewer.org.</b></div><div class=\"sk-container\" hidden><div class=\"sk-item\"><div class=\"sk-estimator sk-toggleable\"><input class=\"sk-toggleable__control sk-hidden--visually\" id=\"sk-estimator-id-1\" type=\"checkbox\" checked><label for=\"sk-estimator-id-1\" class=\"sk-toggleable__label sk-toggleable__label-arrow\">GradientBoostingClassifier</label><div class=\"sk-toggleable__content\"><pre>GradientBoostingClassifier(max_depth=15, max_features=26, min_samples_leaf=20,\n",
       "                           n_estimators=75, random_state=17)</pre></div></div></div></div></div>"
      ],
      "text/plain": [
       "GradientBoostingClassifier(max_depth=15, max_features=26, min_samples_leaf=20,\n",
       "                           n_estimators=75, random_state=17)"
      ]
     },
     "execution_count": 10,
     "metadata": {},
     "output_type": "execute_result"
    }
   ],
   "source": [
    "# параметры от случайного леса: max_depth=17, max_features=27, min_samples_leaf=20, n_estimators=76.\n",
    "\n",
    "model_gb = GradientBoostingClassifier(random_state=17,\n",
    "        min_samples_leaf=20,\n",
    "        max_features=26,\n",
    "        max_depth=15,\n",
    "        n_estimators=75)\n",
    "model_gb.fit(x, data_transformed[\"Response\"])"
   ]
  },
  {
   "attachments": {},
   "cell_type": "markdown",
   "metadata": {},
   "source": [
    "XGBoost. Параметры от случайного леса: max_depth=17, max_features=27, min_samples_leaf=20, n_estimators=76"
   ]
  },
  {
   "cell_type": "code",
   "execution_count": 11,
   "metadata": {},
   "outputs": [
    {
     "name": "stdout",
     "output_type": "stream",
     "text": [
      "[11:36:11] WARNING: C:/buildkite-agent/builds/buildkite-windows-cpu-autoscaling-group-i-030221e36e1a46bfb-1/xgboost/xgboost-ci-windows/src/learner.cc:767: \n",
      "Parameters: { \"max_features\", \"min_samples_leaf\" } are not used.\n",
      "\n"
     ]
    },
    {
     "data": {
      "text/html": [
       "<style>#sk-container-id-2 {color: black;background-color: white;}#sk-container-id-2 pre{padding: 0;}#sk-container-id-2 div.sk-toggleable {background-color: white;}#sk-container-id-2 label.sk-toggleable__label {cursor: pointer;display: block;width: 100%;margin-bottom: 0;padding: 0.3em;box-sizing: border-box;text-align: center;}#sk-container-id-2 label.sk-toggleable__label-arrow:before {content: \"▸\";float: left;margin-right: 0.25em;color: #696969;}#sk-container-id-2 label.sk-toggleable__label-arrow:hover:before {color: black;}#sk-container-id-2 div.sk-estimator:hover label.sk-toggleable__label-arrow:before {color: black;}#sk-container-id-2 div.sk-toggleable__content {max-height: 0;max-width: 0;overflow: hidden;text-align: left;background-color: #f0f8ff;}#sk-container-id-2 div.sk-toggleable__content pre {margin: 0.2em;color: black;border-radius: 0.25em;background-color: #f0f8ff;}#sk-container-id-2 input.sk-toggleable__control:checked~div.sk-toggleable__content {max-height: 200px;max-width: 100%;overflow: auto;}#sk-container-id-2 input.sk-toggleable__control:checked~label.sk-toggleable__label-arrow:before {content: \"▾\";}#sk-container-id-2 div.sk-estimator input.sk-toggleable__control:checked~label.sk-toggleable__label {background-color: #d4ebff;}#sk-container-id-2 div.sk-label input.sk-toggleable__control:checked~label.sk-toggleable__label {background-color: #d4ebff;}#sk-container-id-2 input.sk-hidden--visually {border: 0;clip: rect(1px 1px 1px 1px);clip: rect(1px, 1px, 1px, 1px);height: 1px;margin: -1px;overflow: hidden;padding: 0;position: absolute;width: 1px;}#sk-container-id-2 div.sk-estimator {font-family: monospace;background-color: #f0f8ff;border: 1px dotted black;border-radius: 0.25em;box-sizing: border-box;margin-bottom: 0.5em;}#sk-container-id-2 div.sk-estimator:hover {background-color: #d4ebff;}#sk-container-id-2 div.sk-parallel-item::after {content: \"\";width: 100%;border-bottom: 1px solid gray;flex-grow: 1;}#sk-container-id-2 div.sk-label:hover label.sk-toggleable__label {background-color: #d4ebff;}#sk-container-id-2 div.sk-serial::before {content: \"\";position: absolute;border-left: 1px solid gray;box-sizing: border-box;top: 0;bottom: 0;left: 50%;z-index: 0;}#sk-container-id-2 div.sk-serial {display: flex;flex-direction: column;align-items: center;background-color: white;padding-right: 0.2em;padding-left: 0.2em;position: relative;}#sk-container-id-2 div.sk-item {position: relative;z-index: 1;}#sk-container-id-2 div.sk-parallel {display: flex;align-items: stretch;justify-content: center;background-color: white;position: relative;}#sk-container-id-2 div.sk-item::before, #sk-container-id-2 div.sk-parallel-item::before {content: \"\";position: absolute;border-left: 1px solid gray;box-sizing: border-box;top: 0;bottom: 0;left: 50%;z-index: -1;}#sk-container-id-2 div.sk-parallel-item {display: flex;flex-direction: column;z-index: 1;position: relative;background-color: white;}#sk-container-id-2 div.sk-parallel-item:first-child::after {align-self: flex-end;width: 50%;}#sk-container-id-2 div.sk-parallel-item:last-child::after {align-self: flex-start;width: 50%;}#sk-container-id-2 div.sk-parallel-item:only-child::after {width: 0;}#sk-container-id-2 div.sk-dashed-wrapped {border: 1px dashed gray;margin: 0 0.4em 0.5em 0.4em;box-sizing: border-box;padding-bottom: 0.4em;background-color: white;}#sk-container-id-2 div.sk-label label {font-family: monospace;font-weight: bold;display: inline-block;line-height: 1.2em;}#sk-container-id-2 div.sk-label-container {text-align: center;}#sk-container-id-2 div.sk-container {/* jupyter's `normalize.less` sets `[hidden] { display: none; }` but bootstrap.min.css set `[hidden] { display: none !important; }` so we also need the `!important` here to be able to override the default hidden behavior on the sphinx rendered scikit-learn.org. See: https://github.com/scikit-learn/scikit-learn/issues/21755 */display: inline-block !important;position: relative;}#sk-container-id-2 div.sk-text-repr-fallback {display: none;}</style><div id=\"sk-container-id-2\" class=\"sk-top-container\"><div class=\"sk-text-repr-fallback\"><pre>XGBClassifier(base_score=0.5, booster=&#x27;gbtree&#x27;, callbacks=None,\n",
       "              colsample_bylevel=1, colsample_bynode=1, colsample_bytree=1,\n",
       "              early_stopping_rounds=None, enable_categorical=False,\n",
       "              eval_metric=None, feature_types=None, gamma=0, gpu_id=-1,\n",
       "              grow_policy=&#x27;depthwise&#x27;, importance_type=None,\n",
       "              interaction_constraints=&#x27;&#x27;, learning_rate=0.300000012,\n",
       "              max_bin=256, max_cat_threshold=64, max_cat_to_onehot=4,\n",
       "              max_delta_step=0, max_depth=17, max_features=27, max_leaves=0,\n",
       "              min_child_weight=1, min_samples_leaf=20, missing=nan,\n",
       "              monotone_constraints=&#x27;()&#x27;, n_estimators=76, n_jobs=0,\n",
       "              num_parallel_tree=1, ...)</pre><b>In a Jupyter environment, please rerun this cell to show the HTML representation or trust the notebook. <br />On GitHub, the HTML representation is unable to render, please try loading this page with nbviewer.org.</b></div><div class=\"sk-container\" hidden><div class=\"sk-item\"><div class=\"sk-estimator sk-toggleable\"><input class=\"sk-toggleable__control sk-hidden--visually\" id=\"sk-estimator-id-2\" type=\"checkbox\" checked><label for=\"sk-estimator-id-2\" class=\"sk-toggleable__label sk-toggleable__label-arrow\">XGBClassifier</label><div class=\"sk-toggleable__content\"><pre>XGBClassifier(base_score=0.5, booster=&#x27;gbtree&#x27;, callbacks=None,\n",
       "              colsample_bylevel=1, colsample_bynode=1, colsample_bytree=1,\n",
       "              early_stopping_rounds=None, enable_categorical=False,\n",
       "              eval_metric=None, feature_types=None, gamma=0, gpu_id=-1,\n",
       "              grow_policy=&#x27;depthwise&#x27;, importance_type=None,\n",
       "              interaction_constraints=&#x27;&#x27;, learning_rate=0.300000012,\n",
       "              max_bin=256, max_cat_threshold=64, max_cat_to_onehot=4,\n",
       "              max_delta_step=0, max_depth=17, max_features=27, max_leaves=0,\n",
       "              min_child_weight=1, min_samples_leaf=20, missing=nan,\n",
       "              monotone_constraints=&#x27;()&#x27;, n_estimators=76, n_jobs=0,\n",
       "              num_parallel_tree=1, ...)</pre></div></div></div></div></div>"
      ],
      "text/plain": [
       "XGBClassifier(base_score=0.5, booster='gbtree', callbacks=None,\n",
       "              colsample_bylevel=1, colsample_bynode=1, colsample_bytree=1,\n",
       "              early_stopping_rounds=None, enable_categorical=False,\n",
       "              eval_metric=None, feature_types=None, gamma=0, gpu_id=-1,\n",
       "              grow_policy='depthwise', importance_type=None,\n",
       "              interaction_constraints='', learning_rate=0.300000012,\n",
       "              max_bin=256, max_cat_threshold=64, max_cat_to_onehot=4,\n",
       "              max_delta_step=0, max_depth=17, max_features=27, max_leaves=0,\n",
       "              min_child_weight=1, min_samples_leaf=20, missing=nan,\n",
       "              monotone_constraints='()', n_estimators=76, n_jobs=0,\n",
       "              num_parallel_tree=1, ...)"
      ]
     },
     "execution_count": 11,
     "metadata": {},
     "output_type": "execute_result"
    }
   ],
   "source": [
    "model_xgb = XGBClassifier(max_depth=17, \n",
    "            max_features=27,\n",
    "            n_estimators=76, \n",
    "            min_samples_leaf=20)\n",
    "model_xgb.fit(x, data_transformed[\"Response\"])"
   ]
  },
  {
   "attachments": {},
   "cell_type": "markdown",
   "metadata": {},
   "source": [
    "LightGBM, используем multiclass. Оптимальные парамеры которые нашли ранее - 'max_depth': 17, 'min_child_samples': 18, 'num_leaves': 34"
   ]
  },
  {
   "cell_type": "code",
   "execution_count": 12,
   "metadata": {},
   "outputs": [
    {
     "data": {
      "text/html": [
       "<style>#sk-container-id-3 {color: black;background-color: white;}#sk-container-id-3 pre{padding: 0;}#sk-container-id-3 div.sk-toggleable {background-color: white;}#sk-container-id-3 label.sk-toggleable__label {cursor: pointer;display: block;width: 100%;margin-bottom: 0;padding: 0.3em;box-sizing: border-box;text-align: center;}#sk-container-id-3 label.sk-toggleable__label-arrow:before {content: \"▸\";float: left;margin-right: 0.25em;color: #696969;}#sk-container-id-3 label.sk-toggleable__label-arrow:hover:before {color: black;}#sk-container-id-3 div.sk-estimator:hover label.sk-toggleable__label-arrow:before {color: black;}#sk-container-id-3 div.sk-toggleable__content {max-height: 0;max-width: 0;overflow: hidden;text-align: left;background-color: #f0f8ff;}#sk-container-id-3 div.sk-toggleable__content pre {margin: 0.2em;color: black;border-radius: 0.25em;background-color: #f0f8ff;}#sk-container-id-3 input.sk-toggleable__control:checked~div.sk-toggleable__content {max-height: 200px;max-width: 100%;overflow: auto;}#sk-container-id-3 input.sk-toggleable__control:checked~label.sk-toggleable__label-arrow:before {content: \"▾\";}#sk-container-id-3 div.sk-estimator input.sk-toggleable__control:checked~label.sk-toggleable__label {background-color: #d4ebff;}#sk-container-id-3 div.sk-label input.sk-toggleable__control:checked~label.sk-toggleable__label {background-color: #d4ebff;}#sk-container-id-3 input.sk-hidden--visually {border: 0;clip: rect(1px 1px 1px 1px);clip: rect(1px, 1px, 1px, 1px);height: 1px;margin: -1px;overflow: hidden;padding: 0;position: absolute;width: 1px;}#sk-container-id-3 div.sk-estimator {font-family: monospace;background-color: #f0f8ff;border: 1px dotted black;border-radius: 0.25em;box-sizing: border-box;margin-bottom: 0.5em;}#sk-container-id-3 div.sk-estimator:hover {background-color: #d4ebff;}#sk-container-id-3 div.sk-parallel-item::after {content: \"\";width: 100%;border-bottom: 1px solid gray;flex-grow: 1;}#sk-container-id-3 div.sk-label:hover label.sk-toggleable__label {background-color: #d4ebff;}#sk-container-id-3 div.sk-serial::before {content: \"\";position: absolute;border-left: 1px solid gray;box-sizing: border-box;top: 0;bottom: 0;left: 50%;z-index: 0;}#sk-container-id-3 div.sk-serial {display: flex;flex-direction: column;align-items: center;background-color: white;padding-right: 0.2em;padding-left: 0.2em;position: relative;}#sk-container-id-3 div.sk-item {position: relative;z-index: 1;}#sk-container-id-3 div.sk-parallel {display: flex;align-items: stretch;justify-content: center;background-color: white;position: relative;}#sk-container-id-3 div.sk-item::before, #sk-container-id-3 div.sk-parallel-item::before {content: \"\";position: absolute;border-left: 1px solid gray;box-sizing: border-box;top: 0;bottom: 0;left: 50%;z-index: -1;}#sk-container-id-3 div.sk-parallel-item {display: flex;flex-direction: column;z-index: 1;position: relative;background-color: white;}#sk-container-id-3 div.sk-parallel-item:first-child::after {align-self: flex-end;width: 50%;}#sk-container-id-3 div.sk-parallel-item:last-child::after {align-self: flex-start;width: 50%;}#sk-container-id-3 div.sk-parallel-item:only-child::after {width: 0;}#sk-container-id-3 div.sk-dashed-wrapped {border: 1px dashed gray;margin: 0 0.4em 0.5em 0.4em;box-sizing: border-box;padding-bottom: 0.4em;background-color: white;}#sk-container-id-3 div.sk-label label {font-family: monospace;font-weight: bold;display: inline-block;line-height: 1.2em;}#sk-container-id-3 div.sk-label-container {text-align: center;}#sk-container-id-3 div.sk-container {/* jupyter's `normalize.less` sets `[hidden] { display: none; }` but bootstrap.min.css set `[hidden] { display: none !important; }` so we also need the `!important` here to be able to override the default hidden behavior on the sphinx rendered scikit-learn.org. See: https://github.com/scikit-learn/scikit-learn/issues/21755 */display: inline-block !important;position: relative;}#sk-container-id-3 div.sk-text-repr-fallback {display: none;}</style><div id=\"sk-container-id-3\" class=\"sk-top-container\"><div class=\"sk-text-repr-fallback\"><pre>LGBMRegressor(max_depth=18, min_child_samples=18, n_estimators=1000,\n",
       "              num_class=8, num_leaves=75, objective=&#x27;multiclass&#x27;,\n",
       "              random_state=17)</pre><b>In a Jupyter environment, please rerun this cell to show the HTML representation or trust the notebook. <br />On GitHub, the HTML representation is unable to render, please try loading this page with nbviewer.org.</b></div><div class=\"sk-container\" hidden><div class=\"sk-item\"><div class=\"sk-estimator sk-toggleable\"><input class=\"sk-toggleable__control sk-hidden--visually\" id=\"sk-estimator-id-3\" type=\"checkbox\" checked><label for=\"sk-estimator-id-3\" class=\"sk-toggleable__label sk-toggleable__label-arrow\">LGBMRegressor</label><div class=\"sk-toggleable__content\"><pre>LGBMRegressor(max_depth=18, min_child_samples=18, n_estimators=1000,\n",
       "              num_class=8, num_leaves=75, objective=&#x27;multiclass&#x27;,\n",
       "              random_state=17)</pre></div></div></div></div></div>"
      ],
      "text/plain": [
       "LGBMRegressor(max_depth=18, min_child_samples=18, n_estimators=1000,\n",
       "              num_class=8, num_leaves=75, objective='multiclass',\n",
       "              random_state=17)"
      ]
     },
     "execution_count": 12,
     "metadata": {},
     "output_type": "execute_result"
    }
   ],
   "source": [
    "model_lgb = lgb.LGBMRegressor(random_state=17, max_depth=18,\n",
    "            min_child_samples=18, num_leaves=75, n_estimators=1000,\n",
    "            objective=\"multiclass\", num_class=8)\n",
    "model_lgb.fit(x, data_transformed[\"Response\"])"
   ]
  },
  {
   "attachments": {},
   "cell_type": "markdown",
   "metadata": {},
   "source": [
    "### Расчет предказаний\n",
    "Кроме непосредственно значений дополнительно посчитаем вероятности совпадения с тем или иным классом. Это потребуется для ансамбля голосования. "
   ]
  },
  {
   "cell_type": "code",
   "execution_count": 13,
   "metadata": {},
   "outputs": [],
   "source": [
    "x_test = pd.DataFrame(data_transformed, columns=columns_transformed)"
   ]
  },
  {
   "cell_type": "code",
   "execution_count": 14,
   "metadata": {},
   "outputs": [],
   "source": [
    "data_test_catb_proba = pd.DataFrame(model_cat_boost.predict_proba(x_test))\n",
    "data_test_gb_proba = pd.DataFrame(model_gb.predict_proba(x_test))\n",
    "data_test_xgb_proba = pd.DataFrame(model_xgb.predict_proba(x_test))\n",
    "data_test_lgb_proba = pd.DataFrame(model_lgb.predict(x_test))"
   ]
  },
  {
   "attachments": {},
   "cell_type": "markdown",
   "metadata": {},
   "source": [
    "### Оценка ансамбля\n",
    "Рассчитаем оценку взвешенного предсказания 4 моделей"
   ]
  },
  {
   "cell_type": "code",
   "execution_count": 15,
   "metadata": {},
   "outputs": [],
   "source": [
    "def vote_class (x):\n",
    "    a = np.argmax(x.values)\n",
    "    return a"
   ]
  },
  {
   "cell_type": "code",
   "execution_count": 16,
   "metadata": {},
   "outputs": [
    {
     "name": "stdout",
     "output_type": "stream",
     "text": [
      "Ансамбль (CatBoost, GBoost, XGBoost и LightGBM) классификации: 0.982\n"
     ]
    }
   ],
   "source": [
    "data_test_proba = data_test_catb_proba.copy()\n",
    "for i in range(0, 8):\n",
    "    data_test_proba[i] = 1*data_test_proba[i]\n",
    "    data_test_proba[i] = data_test_proba[i] + 1*data_test_gb_proba[i]\n",
    "    data_test_proba[i] = data_test_proba[i] + 1*data_test_xgb_proba[i]\n",
    "    data_test_proba[i] = data_test_proba[i] + 1*data_test_lgb_proba[i]\n",
    "data_test_proba[\"target\"] = data_test_proba.apply(vote_class, axis=1)\n",
    "\n",
    "print (\"Ансамбль (CatBoost, GBoost, XGBoost и LightGBM) классификации:\",\n",
    "      round(cohen_kappa_score(data_test_proba[\"target\"],\n",
    "                data_transformed[\"Response\"], weights=\"quadratic\"), 3))\n"
   ]
  },
  {
   "cell_type": "code",
   "execution_count": 17,
   "metadata": {},
   "outputs": [
    {
     "name": "stdout",
     "output_type": "stream",
     "text": [
      "0     7\n",
      "1     3\n",
      "2     7\n",
      "3     7\n",
      "4     7\n",
      "5     7\n",
      "6     7\n",
      "7     0\n",
      "8     7\n",
      "9     0\n",
      "10    5\n",
      "11    1\n",
      "12    6\n",
      "13    2\n",
      "14    7\n",
      "Name: target, dtype: int64\n",
      "0     7\n",
      "1     3\n",
      "2     7\n",
      "3     7\n",
      "4     7\n",
      "5     7\n",
      "6     7\n",
      "7     0\n",
      "8     7\n",
      "9     0\n",
      "10    5\n",
      "11    1\n",
      "12    6\n",
      "13    2\n",
      "14    7\n",
      "Name: Response, dtype: int8\n"
     ]
    }
   ],
   "source": [
    "print(data_test_proba[\"target\"].head(15))\n",
    "print(data_transformed[\"Response\"].head(15))"
   ]
  },
  {
   "attachments": {},
   "cell_type": "markdown",
   "metadata": {},
   "source": [
    "### Загрузка данных для расчетов\n",
    "Применим построенный ансамбль моделей для расчета актуальных данных (актуал. значения классификации).\n",
    "\n",
    "Будем использовать ранее написанные функции для нормализация и оптимизации данных."
   ]
  },
  {
   "cell_type": "code",
   "execution_count": 18,
   "metadata": {},
   "outputs": [
    {
     "name": "stdout",
     "output_type": "stream",
     "text": [
      "Потребление памяти меньше на 16.34 Мб (минус 84.9 %)\n",
      "<class 'pandas.core.frame.DataFrame'>\n",
      "RangeIndex: 19765 entries, 0 to 19764\n",
      "Columns: 125 entries, 0 to 124\n",
      "dtypes: float32(125)\n",
      "memory usage: 9.4 MB\n",
      "None\n"
     ]
    }
   ],
   "source": [
    "# data_test = pd.read_csv(\"https://video.ittensive.com/machine-learning/prudential/test.csv.gz\")\n",
    "data_test = pd.read_csv(\"test.csv.gz\")\n",
    "data_test = data_preprocess(data_test)\n",
    "data_test = reduce_mem_usage(data_test)\n",
    "data_test_transformed = pd.DataFrame(scaler.transform(pd.DataFrame(data_test,\n",
    "                                            columns=columns)))\n",
    "print (data_test_transformed.info())"
   ]
  },
  {
   "cell_type": "code",
   "execution_count": 19,
   "metadata": {},
   "outputs": [
    {
     "name": "stdout",
     "output_type": "stream",
     "text": [
      "        0         1         2         3         4         5         6    \\\n",
      "0  0.519789  1.002921  1.045952  0.022140  0.611857 -0.169414 -1.159587   \n",
      "1  0.215425  0.266273  1.122714  0.126020 -1.634368 -0.169414  0.862391   \n",
      "2  0.308653  0.022915  0.894903  0.405695  0.611857 -0.169414 -1.159587   \n",
      "3 -0.278139 -0.707156  0.592804  0.143999 -1.634368 -0.169414  0.862391   \n",
      "4 -0.513953 -0.463799 -0.542540 -0.333447  0.611857 -0.169414 -1.159587   \n",
      "\n",
      "        7         8         9    ...       115       116       117       118  \\\n",
      "0  1.101046 -1.156735  1.130555  ...  0.559558 -0.083689  0.441621 -0.149284   \n",
      "1 -1.013721  0.864261 -0.928723  ... -0.892015 -0.083689  0.441621 -0.149284   \n",
      "2  1.101046 -1.156735  1.130555  ... -0.652247 -0.083689  0.441621 -0.149284   \n",
      "3 -1.013721  0.862242  0.100916  ... -0.627190 -0.083689 -2.264385 -0.149284   \n",
      "4  1.101046 -1.156735  1.130555  ... -0.892015 -0.083689  0.441621 -0.149284   \n",
      "\n",
      "        119       120       121       122       123       124  \n",
      "0 -0.200031  0.750845 -0.623305 -0.216001 -0.128866 -0.142142  \n",
      "1 -0.666860 -1.331832  1.604350 -0.216001 -0.128866 -0.142142  \n",
      "2 -0.200031  0.750845 -0.623305 -0.216001 -0.128866 -0.142142  \n",
      "3 -1.133690 -1.331832  1.604350 -0.216001 -0.128866 -0.142142  \n",
      "4 -1.133690 -1.331832  1.604350 -0.216001 -0.128866 -0.142142  \n",
      "\n",
      "[5 rows x 125 columns]\n"
     ]
    }
   ],
   "source": [
    "print(data_test_transformed.head())"
   ]
  },
  {
   "attachments": {},
   "cell_type": "markdown",
   "metadata": {},
   "source": [
    "### Расчет предсказаний\n",
    "Произведем предсказания класса по ранее построенному ансамблю "
   ]
  },
  {
   "cell_type": "code",
   "execution_count": 20,
   "metadata": {},
   "outputs": [],
   "source": [
    "data_test_catb = pd.DataFrame(model_cat_boost.predict_proba(Pool(data=data_test_transformed)))\n",
    "data_test_gb = pd.DataFrame(model_gb.predict_proba(data_test_transformed))\n",
    "data_test_xgb = pd.DataFrame(model_xgb.predict_proba(data_test_transformed))\n",
    "data_test_lgb = pd.DataFrame(model_lgb.predict(data_test_transformed))"
   ]
  },
  {
   "cell_type": "code",
   "execution_count": 21,
   "metadata": {},
   "outputs": [],
   "source": [
    "data_test_1 = data_test_catb.copy()\n",
    "for i in range(0, 8):\n",
    "    data_test_1[i] = data_test_1[i]\n",
    "    data_test_1[i] = data_test_1[i] + 1*data_test_gb[i]\n",
    "    data_test_1[i] = data_test_1[i] + 1*data_test_xgb[i]\n",
    "    data_test_1[i] = data_test_1[i] + 1*data_test_lgb[i]\n",
    "data_test_transformed[\"Response\"] = (data_test_1.apply(vote_class, axis=1) + 1).astype(\"int8\") "
   ]
  },
  {
   "cell_type": "code",
   "execution_count": 26,
   "metadata": {},
   "outputs": [
    {
     "name": "stdout",
     "output_type": "stream",
     "text": [
      "0    1\n",
      "1    8\n",
      "2    6\n",
      "3    8\n",
      "4    8\n",
      "Name: Response, dtype: int8\n",
      "0        1\n",
      "1        8\n",
      "2        6\n",
      "3        8\n",
      "4        8\n",
      "        ..\n",
      "19760    8\n",
      "19761    8\n",
      "19762    6\n",
      "19763    2\n",
      "19764    4\n",
      "Name: Response, Length: 19765, dtype: int8\n"
     ]
    }
   ],
   "source": [
    "print(data_test_transformed[\"Response\"].head())\n",
    "print(data_test_transformed[\"Response\"])"
   ]
  },
  {
   "attachments": {},
   "cell_type": "markdown",
   "metadata": {},
   "source": [
    "### Формирование результатов\n",
    "Загрузим пример данных для отправки и заменим в нем столбец Response на рассчитанный ранее."
   ]
  },
  {
   "cell_type": "code",
   "execution_count": 23,
   "metadata": {},
   "outputs": [
    {
     "name": "stdout",
     "output_type": "stream",
     "text": [
      "   Id  Response\n",
      "0   1         8\n",
      "1   3         8\n",
      "2   4         8\n",
      "3   9         8\n",
      "4  12         8\n"
     ]
    }
   ],
   "source": [
    "# submission = pd.read_csv(\"https://video.ittensive.com/machine-learning/prudential/sample_submission.csv.gz\")\n",
    "submission = pd.read_csv(\"sample_submission.csv.gz\")\n",
    "\n",
    "print (submission.head())"
   ]
  },
  {
   "cell_type": "code",
   "execution_count": 24,
   "metadata": {},
   "outputs": [
    {
     "name": "stdout",
     "output_type": "stream",
     "text": [
      "   Id  Response\n",
      "0   1         1\n",
      "1   3         8\n",
      "2   4         6\n",
      "3   9         8\n",
      "4  12         8\n"
     ]
    }
   ],
   "source": [
    "submission[\"Response\"] = data_test_transformed[\"Response\"].astype(\"int8\")\n",
    "print (submission.head())"
   ]
  },
  {
   "attachments": {},
   "cell_type": "markdown",
   "metadata": {},
   "source": [
    "### Выгрузка результатов"
   ]
  },
  {
   "cell_type": "code",
   "execution_count": 25,
   "metadata": {},
   "outputs": [],
   "source": [
    "submission.to_csv(\"submission.csv\", index=False)"
   ]
  }
 ],
 "metadata": {
  "kernelspec": {
   "display_name": "Python 3",
   "language": "python",
   "name": "python3"
  },
  "language_info": {
   "codemirror_mode": {
    "name": "ipython",
    "version": 3
   },
   "file_extension": ".py",
   "mimetype": "text/x-python",
   "name": "python",
   "nbconvert_exporter": "python",
   "pygments_lexer": "ipython3",
   "version": "3.10.5"
  },
  "orig_nbformat": 4,
  "vscode": {
   "interpreter": {
    "hash": "cabc1c0307ff36ad707732aa9193e5f78d475ef32be73cdd13d0523dc404be35"
   }
  }
 },
 "nbformat": 4,
 "nbformat_minor": 2
}
